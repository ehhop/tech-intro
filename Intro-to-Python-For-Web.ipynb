{
 "cells": [
  {
   "cell_type": "markdown",
   "metadata": {},
   "source": [
    "# Python for the Web"
   ]
  },
  {
   "cell_type": "markdown",
   "metadata": {},
   "source": [
    "First things first, SSH into the server and tunnel the port 5000 to your computer"
   ]
  },
  {
   "cell_type": "markdown",
   "metadata": {},
   "source": [
    ">ssh username@dev.ehhapp.org -L 5000:localhost:5000"
   ]
  },
  {
   "cell_type": "markdown",
   "metadata": {},
   "source": [
    "### So now we are going to start a simple web app to display \"Hello World\". Copy this into a file, like flask-intro.py"
   ]
  },
  {
   "cell_type": "code",
   "execution_count": 2,
   "metadata": {
    "collapsed": false
   },
   "outputs": [],
   "source": [
    "from flask import Flask # import the web server library\n",
    "app = Flask(__name__) # create a new Flask app\n",
    "\n",
    "@app.route('/') # when we go to the url localhost:5000/\n",
    "def hello_world():\n",
    "    return 'Hello, World!'\n",
    "\n",
    "if __name__==\"__main__\": # do the following when you run the file\n",
    "    app.run(debug=True, port=5000) # this runs the webserver"
   ]
  },
  {
   "cell_type": "markdown",
   "metadata": {},
   "source": [
    "So how does this work? Flask is a python library that allows you to run a webserver from simple Python functions.\n",
    "\n",
    "The `app = Flask(__name__)` creates a new Flask app object.\n",
    "\n",
    "The `@app.route` is a decorator for the `app` object we created earlier. A decorator is a function that wraps another Python function. In this case, the `@app.route('/')` tells Flask that when a person goes to the URL `localhost:5000/` that it should run the `hello_world()` function.\n",
    "\n",
    "We could rewrite the code to see what's actually going on under the hood."
   ]
  },
  {
   "cell_type": "code",
   "execution_count": 2,
   "metadata": {
    "collapsed": false
   },
   "outputs": [],
   "source": [
    "from flask import Flask\n",
    "app = Flask(__name__)\n",
    "   \n",
    "app.route('/',\n",
    "    def hello_world():\n",
    "        return 'Hello, World!'\n",
    "    )\n",
    "\n",
    "if __name__==\"__main__\":\n",
    "    app.run(debug=True, port=5000)"
   ]
  },
  {
   "cell_type": "markdown",
   "metadata": {},
   "source": [
    "As you see, we've passed the URL of `/` and the `hello_world()` function to `app.route()`, so that whenever someone goes to that URL, the hello world function will run."
   ]
  },
  {
   "cell_type": "markdown",
   "metadata": {},
   "source": [
    "Now we will get a little fancier, let's customize the hello so that it says the name of the person."
   ]
  },
  {
   "cell_type": "code",
   "execution_count": null,
   "metadata": {
    "collapsed": true
   },
   "outputs": [],
   "source": [
    "from flask import Flask \n",
    "app = Flask(__name__) \n",
    "\n",
    "@app.route('/hello/')\n",
    "@app.route('/hello/<name>')\n",
    "def hello_world(name=None):\n",
    "    if name==None:\n",
    "        return 'Hello, World!'\n",
    "    else:\n",
    "        return 'Hello, %s!' % name\n",
    "\n",
    "if __name__==\"__main__\": \n",
    "    app.run(debug=True, port=5000) "
   ]
  },
  {
   "cell_type": "markdown",
   "metadata": {},
   "source": [
    "Now we don't have to render just plain text, we can render HTML! For this we will use what's called a template, which allows you to put HTML in an external file and link to it from within your Flask app."
   ]
  },
  {
   "cell_type": "code",
   "execution_count": null,
   "metadata": {
    "collapsed": true
   },
   "outputs": [],
   "source": [
    "'''\n",
    "Layout: \n",
    "\n",
    "/flask-intro.py\n",
    "/templates\n",
    "    /hello.html\n",
    "'''\n",
    "\n",
    "'''\n",
    "/flask-intro.py\n",
    "'''\n",
    "\n",
    "from flask import Flask, render_template\n",
    "app = Flask(__name__) \n",
    "\n",
    "@app.route('/hello/')\n",
    "@app.route('/hello/<name>')\n",
    "def hello_world(name=None):\n",
    "    return render_template('hello.html', name=name)\n",
    "\n",
    "if __name__==\"__main__\": \n",
    "    app.run(debug=True, port=5000) \n",
    "\n",
    "'''\n",
    "/templates/hello.html\n",
    "'''\n",
    "\n",
    "<!doctype html>\n",
    "<title>Hello from Flask</title>\n",
    "{% if name %}\n",
    "  <h1>Hello {{ name }}!</h1>\n",
    "{% else %}\n",
    "  <h1>Hello, World!</h1>\n",
    "{% endif %}"
   ]
  },
  {
   "cell_type": "markdown",
   "metadata": {},
   "source": [
    "Now, there's more than one way to get the name from the user. Now let's try with request variables and a small form."
   ]
  },
  {
   "cell_type": "code",
   "execution_count": null,
   "metadata": {
    "collapsed": true
   },
   "outputs": [],
   "source": [
    "'''\n",
    "Layout: \n",
    "\n",
    "/flask-intro.py\n",
    "/templates\n",
    "    /hello.html\n",
    "'''\n",
    "\n",
    "'''\n",
    "/flask-intro.py\n",
    "'''\n",
    "\n",
    "from flask import Flask, render_template, request\n",
    "app = Flask(__name__) \n",
    "\n",
    "@app.route('/hello/')\n",
    "def hello_world():\n",
    "    name = request.values.get('name', None)\n",
    "    return render_template('hello.html', name=name)\n",
    "\n",
    "if __name__==\"__main__\": \n",
    "    app.run(debug=True, port=5000) \n",
    "\n",
    "'''\n",
    "/templates/hello.html\n",
    "'''\n",
    "\n",
    "<!doctype html>\n",
    "<title>Hello from Flask</title>\n",
    "{% if name %}\n",
    "    <h1>Hello {{ name }}!</h1>\n",
    "{% else %}\n",
    "    <h1>Please enter your name:</h1>\n",
    "    <form action=\"\" method=\"get\">\n",
    "        <p><input type=text name=name></p>\n",
    "        <p><input type=submit value=Submit></p>\n",
    "    </form>\n",
    "{% endif %}"
   ]
  },
  {
   "cell_type": "markdown",
   "metadata": {},
   "source": [
    "Note that we can do the same thing with a POST request (the name is sent separately from the URL) than with what we just did which was a GET request."
   ]
  },
  {
   "cell_type": "code",
   "execution_count": null,
   "metadata": {
    "collapsed": true
   },
   "outputs": [],
   "source": [
    "'''\n",
    "Layout: \n",
    "\n",
    "/flask-intro.py\n",
    "/templates\n",
    "    /hello.html\n",
    "'''\n",
    "\n",
    "'''\n",
    "/flask-intro.py\n",
    "'''\n",
    "\n",
    "from flask import Flask, render_template, request\n",
    "app = Flask(__name__) \n",
    "\n",
    "@app.route('/hello/', methods=['GET','POST'])\n",
    "def hello_world():\n",
    "    name = None\n",
    "    if request.method==\"POST\":\n",
    "        name = request.form['name']\n",
    "    return render_template('hello.html', name=name)\n",
    "\n",
    "if __name__==\"__main__\": \n",
    "    app.run(debug=True, port=5000) \n",
    "\n",
    "'''\n",
    "/templates/hello.html\n",
    "'''\n",
    "\n",
    "<!doctype html>\n",
    "<title>Hello from Flask</title>\n",
    "{% if name %}\n",
    "    <h1>Hello {{ name }}!</h1>\n",
    "{% else %}\n",
    "    <h1>Please enter your name:</h1>\n",
    "    <form action=\"\" method=\"post\">\n",
    "        <p><input type=text name=name></p>\n",
    "        <p><input type=submit value=Submit></p>\n",
    "    </form>\n",
    "{% endif %}"
   ]
  },
  {
   "cell_type": "markdown",
   "metadata": {},
   "source": [
    "Now we can get even fancier and talk about using a layout template. Let's create a file called layout.html in our templates directory. We're going to use the Bootstrap 3 library which is a set of CSS rules and JS that is a great starting point for any web layout. It's feature packed, and it's documentation is at here: [getbootstrap.com](https://getbootstrap.com)"
   ]
  },
  {
   "cell_type": "code",
   "execution_count": null,
   "metadata": {
    "collapsed": true
   },
   "outputs": [],
   "source": [
    "'''\n",
    "/templates/layout.html\n",
    "'''\n",
    "<!DOCTYPE html>\n",
    "<html lang=\"en\">\n",
    "  <head>\n",
    "    <meta charset=\"utf-8\">\n",
    "    <meta http-equiv=\"X-UA-Compatible\" content=\"IE=edge\">\n",
    "    <meta name=\"viewport\" content=\"width=device-width, initial-scale=1\">\n",
    "    <!-- The above 3 meta tags *must* come first in the head; any other head content must come *after* these tags -->\n",
    "    <title>Hello from Flask!</title>\n",
    "\n",
    "    <!-- Bootstrap -->\n",
    "    <link href=\"http://cdnjs.cloudflare.com/ajax/libs/twitter-bootstrap/3.3.2/css/bootstrap.min.css\" rel=\"stylesheet\">\n",
    "  </head>\n",
    "  <body>\n",
    "    <div class='container'>\n",
    "        <div class='jumbotron'>\n",
    "    {% block body %}{% endblock %}\n",
    "        </div>\n",
    "    </div>\n",
    "    <!-- jQuery (necessary for Bootstrap's JavaScript plugins) -->\n",
    "    <script src=\"https://ajax.googleapis.com/ajax/libs/jquery/1.12.4/jquery.min.js\"></script>\n",
    "    <!-- Include all compiled plugins (below), or include individual files as needed -->\n",
    "    <script src=\"http://cdnjs.cloudflare.com/ajax/libs/twitter-bootstrap/3.3.2/js/bootstrap.min.js\"></script>\n",
    "  </body>\n",
    "</html>\n",
    "                                \n",
    "'''\n",
    "/templates/hello.html\n",
    "'''\n",
    "{% extends \"layout.html\" %}\n",
    "{% block body %}\n",
    "{% if name %}\n",
    "    <h1>Hello {{ name }}!</h1>\n",
    "{% else %}\n",
    "    <h1>Please enter your name:</h1>\n",
    "    <form action=\"\" method=\"post\">\n",
    "        <p><input type=text name=name></p>\n",
    "        <p><input type=submit value=Submit></p>\n",
    "    </form>\n",
    "{% endif %}\n",
    "{% endblock %}"
   ]
  }
 ],
 "metadata": {
  "kernelspec": {
   "display_name": "Python [Root]",
   "language": "python",
   "name": "Python [Root]"
  },
  "language_info": {
   "codemirror_mode": {
    "name": "ipython",
    "version": 2
   },
   "file_extension": ".py",
   "mimetype": "text/x-python",
   "name": "python",
   "nbconvert_exporter": "python",
   "pygments_lexer": "ipython2",
   "version": "2.7.12"
  }
 },
 "nbformat": 4,
 "nbformat_minor": 0
}
